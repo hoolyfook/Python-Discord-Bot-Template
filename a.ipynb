{
 "cells": [
  {
   "cell_type": "code",
   "execution_count": 21,
   "id": "808eb2ad",
   "metadata": {},
   "outputs": [],
   "source": [
    "import logging\n",
    "import os\n",
    "import platform\n",
    "import random\n",
    "\n",
    "import aiosqlite\n",
    "import discord\n",
    "from discord.ext import commands, tasks\n",
    "from discord.ext.commands import Context\n",
    "from dotenv import load_dotenv\n",
    "import asyncio\n",
    "from database import DatabaseManager"
   ]
  },
  {
   "cell_type": "code",
   "execution_count": 39,
   "id": "bec32ce7",
   "metadata": {},
   "outputs": [
    {
     "name": "stdout",
     "output_type": "stream",
     "text": [
      "{'user_id': '396574228675166209', 'balance': 242, 'last_daily': '2025-04-25T14:17:53.970847'}\n"
     ]
    }
   ],
   "source": [
    "import aiosqlite\n",
    "import asyncio\n",
    "\n",
    "async def get_random_user() -> dict | None:\n",
    "    async with aiosqlite.connect(\"database/database.db\") as db:\n",
    "        db.row_factory = aiosqlite.Row\n",
    "        async with db.execute(\"SELECT * FROM users ORDER BY RANDOM() LIMIT 1\") as cursor:\n",
    "            row = await cursor.fetchone()\n",
    "            return dict(row) if row else None\n",
    "\n",
    "# Use await directly in the interactive environment\n",
    "result = await get_random_user()\n",
    "print(result)"
   ]
  }
 ],
 "metadata": {
  "kernelspec": {
   "display_name": "3.12",
   "language": "python",
   "name": "python3"
  },
  "language_info": {
   "codemirror_mode": {
    "name": "ipython",
    "version": 3
   },
   "file_extension": ".py",
   "mimetype": "text/x-python",
   "name": "python",
   "nbconvert_exporter": "python",
   "pygments_lexer": "ipython3",
   "version": "3.12.1"
  }
 },
 "nbformat": 4,
 "nbformat_minor": 5
}
